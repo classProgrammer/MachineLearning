{
 "cells": [
  {
   "cell_type": "code",
   "execution_count": 87,
   "metadata": {},
   "outputs": [
    {
     "name": "stdout",
     "output_type": "stream",
     "text": [
      "k\n"
     ]
    }
   ],
   "source": [
    "import numpy\n",
    "import scipy.special\n",
    "import matplotlib.pyplot\n",
    "%matplotlib inline\n",
    "\n",
    "class neuroLayer:\n",
    "    def __init__(self, nodes, prevNodes):\n",
    "        self.layer = numpy.random.normal(0.0, pow(nodes, -0.5), (nodes, prevNodes))\n",
    "    \n",
    "    def transposed(self):\n",
    "        return self.layer.T\n",
    "    \n",
    "    def value(self):\n",
    "        return self.layer\n",
    "\n",
    "    def setLayer(value):\n",
    "        self.layer = value\n",
    "    \n",
    "    \n",
    "def defaultNet():\n",
    "    return neuroNet(3, 3, 3, 0.3)\n",
    "\n",
    "def numberNet():\n",
    "    return neuroNet(784, 100, 10, 0.3)\n",
    "\n",
    "def readFromFile(path):\n",
    "    toread = open(path, \"r\")\n",
    "    ret = toread.readlines()\n",
    "    toread.close()\n",
    "    return ret\n",
    "\n",
    "class neuroNet:\n",
    "    def __init__(self, iNodes, hNodes, oNodes, learnRate, additional_layers = 0):\n",
    "        self.lr = learnRate\n",
    "        self.layers = []\n",
    "        self.activation_function = lambda x: scipy.special.expit(x)\n",
    "        \n",
    "        self.layers.append(neuroLayer(hNodes, iNodes))\n",
    "\n",
    "        for i in range(0, additional_layers):\n",
    "            self.layers.append(neuroLayer(hNodes, hNodes))\n",
    "        \n",
    "        self.layers.append(neuroLayer(oNodes, hNodes))\n",
    "        \n",
    "    def updateNet(self, errors, outputs, inputs):\n",
    "         return self.lr * numpy.dot((errors * outputs * (1.0 - outputs)), numpy.transpose(inputs))\n",
    "        \n",
    "    def train(self, inputs_list, targets_list):\n",
    "        inputs = numpy.array(inputs_list, ndmin=2).T\n",
    "        targets = numpy.array(targets_list, ndmin=2).T\n",
    "        \n",
    "        Inputs = []\n",
    "        Outputs = []\n",
    "        Errors = []\n",
    "        last = -1\n",
    "        \n",
    "        inp = inputs\n",
    "        \n",
    "        #inputs/outputs per layer\n",
    "        for layer in self.layers:\n",
    "            if len(Inputs) == 0:\n",
    "                Inputs.append(inp) \n",
    "                inp = numpy.dot(layer.value(), inp)  \n",
    "            else:\n",
    "                Inputs.append(Outputs[last])\n",
    "                inp = numpy.dot(layer.value(), Outputs[last])\n",
    "                \n",
    "            Outputs.append(self.activation_function(inp))\n",
    "            last += 1\n",
    "            \n",
    "        #errors per layer (reverse order)\n",
    "        lastLayer = None\n",
    "        for layer in self.layers[::-1]:\n",
    "            if len(Errors) == 0:\n",
    "                Errors.append(targets - Outputs[last])\n",
    "            else:\n",
    "                Errors.insert(0, numpy.dot(lastLayer.layer.T, Errors[0]))\n",
    "            lastLayer = layer\n",
    "        \n",
    "        first = True\n",
    "        idx = 0\n",
    "        #update values per layer\n",
    "        for layer in self.layers:\n",
    "            layer.layer += self.updateNet(Errors[idx], Outputs[idx], Inputs[idx])\n",
    "            idx += 1\n",
    "\n",
    "    def query(self, inputs_list):\n",
    "        inputs = numpy.array(inputs_list, ndmin=2).T\n",
    "        \n",
    "        for layer in self.layers:\n",
    "            inputs = self.activation_function(numpy.dot(layer.value(), inputs))  \n",
    "        return inputs\n",
    "    \n",
    "# main()\n",
    "#n = numberNet()\n",
    "#n.query([1.0, 0.5, -1.5])  \n",
    "print(\"k\")"
   ]
  },
  {
   "cell_type": "code",
   "execution_count": 10,
   "metadata": {},
   "outputs": [],
   "source": []
  },
  {
   "cell_type": "code",
   "execution_count": 90,
   "metadata": {},
   "outputs": [
    {
     "name": "stdout",
     "output_type": "stream",
     "text": [
      "trained\n"
     ]
    }
   ],
   "source": [
    "def trainNumberNet(net, data):\n",
    "    for record in data:\n",
    "        all_values = record.split(',')\n",
    "        inputs = (numpy.asfarray(all_values[1:]) / 255.0 * 0.99) + 0.01\n",
    "        targets = numpy.zeros(output_nodes) + 0.01\n",
    "        targets[int(all_values[0])] = 0.99\n",
    "        net.train(inputs, targets)\n",
    "\n",
    "input_nodes = 784\n",
    "hidden_nodes = 80\n",
    "output_nodes = 10\n",
    "learning_rate = 0.25\n",
    "additional_layers = 1\n",
    "\n",
    "n = neuroNet(input_nodes, hidden_nodes, output_nodes, learning_rate, additional_layers)\n",
    "\n",
    "training_data_list = readFromFile(\"../dat/mnist_train.csv\")\n",
    "\n",
    "trainNumberNet(n, training_data_list)\n",
    "print(\"trained\")"
   ]
  },
  {
   "cell_type": "code",
   "execution_count": 91,
   "metadata": {},
   "outputs": [
    {
     "name": "stdout",
     "output_type": "stream",
     "text": [
      "correct:  81.19 %\n"
     ]
    }
   ],
   "source": [
    "#test net\n",
    "test_data_list = readFromFile(\"../dat/mnist_test.csv\")\n",
    "scorecard = []\n",
    "for record in test_data_list:\n",
    "    all_values = record.split(\",\")\n",
    "    correct_label = int(all_values[0])\n",
    "    inputs = (numpy.asfarray(all_values[1:]) / 255.0 * 0.99) + 0.01\n",
    "    outputs = n.query(inputs)\n",
    "    label = numpy.argmax(outputs)\n",
    "    if label == correct_label:\n",
    "        scorecard.append(1)\n",
    "    else:\n",
    "        scorecard.append(0)\n",
    "scorecard_array = numpy.asarray(scorecard)\n",
    "print(\"correct: \", scorecard_array.sum() / scorecard_array.size * 100, \"%\")"
   ]
  },
  {
   "cell_type": "code",
   "execution_count": null,
   "metadata": {},
   "outputs": [],
   "source": []
  },
  {
   "cell_type": "code",
   "execution_count": null,
   "metadata": {},
   "outputs": [],
   "source": []
  }
 ],
 "metadata": {
  "kernelspec": {
   "display_name": "Python 3",
   "language": "python",
   "name": "python3"
  },
  "language_info": {
   "codemirror_mode": {
    "name": "ipython",
    "version": 3
   },
   "file_extension": ".py",
   "mimetype": "text/x-python",
   "name": "python",
   "nbconvert_exporter": "python",
   "pygments_lexer": "ipython3",
   "version": "3.7.1"
  }
 },
 "nbformat": 4,
 "nbformat_minor": 2
}
